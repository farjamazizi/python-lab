{
 "cells": [
  {
   "cell_type": "code",
   "execution_count": 7,
   "id": "e2e0567a",
   "metadata": {},
   "outputs": [],
   "source": [
    "import random"
   ]
  },
  {
   "cell_type": "code",
   "execution_count": 8,
   "id": "28c3efa6",
   "metadata": {},
   "outputs": [],
   "source": [
    "rand_num = random.randint(1,100)"
   ]
  },
  {
   "cell_type": "code",
   "execution_count": 9,
   "id": "b6eab994",
   "metadata": {},
   "outputs": [
    {
     "data": {
      "text/plain": [
       "2"
      ]
     },
     "execution_count": 9,
     "metadata": {},
     "output_type": "execute_result"
    }
   ],
   "source": [
    "rand_num"
   ]
  },
  {
   "cell_type": "code",
   "execution_count": 10,
   "id": "c32a9f0d",
   "metadata": {},
   "outputs": [],
   "source": [
    "# user_guess = input(\"Guess a number between 1 and 100: \")"
   ]
  },
  {
   "cell_type": "code",
   "execution_count": 11,
   "id": "e53f8085",
   "metadata": {},
   "outputs": [],
   "source": [
    "# user_guess"
   ]
  },
  {
   "cell_type": "code",
   "execution_count": 13,
   "id": "37cc15c8",
   "metadata": {},
   "outputs": [],
   "source": [
    "def validate_input(user_guess):\n",
    "        if not user_guess.isdigit():\n",
    "            print(\"Invalid input. PLease try again.\")\n",
    "            return False\n",
    "    \n",
    "        user_guess = int(user_guess)\n",
    "        if user_guess > 100 or user_guess < 1:\n",
    "            print(\"Your guess is out of range. PLease try again. Your guess should be between 1 and 100.\")\n",
    "            score -= 5\n",
    "            return False\n",
    "    \n",
    "        return True"
   ]
  },
  {
   "cell_type": "code",
   "execution_count": 14,
   "id": "597f7611",
   "metadata": {},
   "outputs": [
    {
     "name": "stdout",
     "output_type": "stream",
     "text": [
      "Your guess is too low. pLease try again.\n",
      "your guess is too high. PLease try again\n",
      "Invalid input. PLease try again.\n",
      "Congratulations! You guessed the correct number!\n",
      "Your score is: 80\n"
     ]
    }
   ],
   "source": [
    "score = 100\n",
    "\n",
    "while True:\n",
    "    user_guess = input(\"Guess a number between 1 and 100: \")\n",
    "\n",
    "    if user_guess == \"q\":\n",
    "        print(\"Thank you for playing. Goodbye!\")\n",
    "        break\n",
    "\n",
    "    if not validate_input(user_guess):\n",
    "         continue\n",
    "\n",
    "    # elif not user_guess.isdigit():\n",
    "    #         print(\"Invalid input. PLease try again.\")\n",
    "    #         continue\n",
    "    \n",
    "    # user_guess = int(user_guess)\n",
    "    # if user_guess > 100 or user_guess < 1:\n",
    "    #      print(\"Your guess is out of range. PLease try again. Your guess should be between 1 and 100.\")\n",
    "    #      score -= 5\n",
    "    #      continue\n",
    "\n",
    "    user_guess = int(user_guess)\n",
    "    \n",
    "    if rand_num > user_guess:\n",
    "         print(\"Your guess is too low. pLease try again.\")\n",
    "    elif rand_num < user_guess:\n",
    "         print(\"your guess is too high. PLease try again\")\n",
    "    else:\n",
    "         print(\"Congratulations! You guessed the correct number!\")\n",
    "         print(f\"Your score is: {score}\")\n",
    "         break\n",
    "    \n",
    "    score -= 10\n",
    "    score = max(score, 0)\n",
    "         \n"
   ]
  }
 ],
 "metadata": {
  "kernelspec": {
   "display_name": "py310_pyto_practice",
   "language": "python",
   "name": "python3"
  },
  "language_info": {
   "codemirror_mode": {
    "name": "ipython",
    "version": 3
   },
   "file_extension": ".py",
   "mimetype": "text/x-python",
   "name": "python",
   "nbconvert_exporter": "python",
   "pygments_lexer": "ipython3",
   "version": "3.10.18"
  }
 },
 "nbformat": 4,
 "nbformat_minor": 5
}
