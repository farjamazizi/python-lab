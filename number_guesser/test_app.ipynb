{
 "cells": [
  {
   "cell_type": "code",
   "execution_count": 1,
   "id": "754d8b16",
   "metadata": {},
   "outputs": [],
   "source": [
    "import random"
   ]
  },
  {
   "cell_type": "code",
   "execution_count": 3,
   "id": "0cf3e358",
   "metadata": {},
   "outputs": [],
   "source": [
    "user_guess = input(\"Guess a number between 1 and 100: \")\n"
   ]
  },
  {
   "cell_type": "code",
   "execution_count": 4,
   "id": "20024a9e",
   "metadata": {},
   "outputs": [
    {
     "data": {
      "text/plain": [
       "'10'"
      ]
     },
     "execution_count": 4,
     "metadata": {},
     "output_type": "execute_result"
    }
   ],
   "source": [
    "user_guess"
   ]
  },
  {
   "cell_type": "code",
   "execution_count": null,
   "id": "5955cc29",
   "metadata": {},
   "outputs": [],
   "source": [
    "while Treu:\n",
    "    "
   ]
  }
 ],
 "metadata": {
  "kernelspec": {
   "display_name": "py310_pyto_practice",
   "language": "python",
   "name": "python3"
  },
  "language_info": {
   "codemirror_mode": {
    "name": "ipython",
    "version": 3
   },
   "file_extension": ".py",
   "mimetype": "text/x-python",
   "name": "python",
   "nbconvert_exporter": "python",
   "pygments_lexer": "ipython3",
   "version": "3.10.18"
  }
 },
 "nbformat": 4,
 "nbformat_minor": 5
}
